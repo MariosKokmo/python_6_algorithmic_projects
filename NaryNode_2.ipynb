{
 "cells": [
  {
   "cell_type": "code",
   "execution_count": 1,
   "metadata": {},
   "outputs": [],
   "source": [
    "class NaryNode:\n",
    "    def __init__(self, value, level = 0) -> None:\n",
    "        self.value = value\n",
    "        self.children = []\n",
    "        self.indent = '  '\n",
    "        self.level = level\n",
    "    \n",
    "    def add_child(self, child):\n",
    "        self.children.append(child)\n",
    "        self.children[-1].level = self.level + 1\n",
    "    \n",
    "    def __str__(self) -> str:\n",
    "        return  (self.level)*self.indent + str(self.value) + ': ' + '\\n' + ''.join([(self.level-child.level)*self.indent + child.__str__() for child in self.children])"
   ]
  },
  {
   "cell_type": "code",
   "execution_count": 2,
   "metadata": {},
   "outputs": [],
   "source": [
    "nn = NaryNode('Root')\n",
    "a = NaryNode('A')\n",
    "b = NaryNode('B')\n",
    "c = NaryNode('C')\n",
    "d = NaryNode('D')\n",
    "e = NaryNode('E')\n",
    "f = NaryNode('F')\n",
    "g = NaryNode('G')\n",
    "h = NaryNode('H')\n",
    "k = NaryNode('K')\n",
    "l = NaryNode('L')\n",
    "\n",
    "nn.add_child(a)\n",
    "nn.add_child(b)\n",
    "nn.add_child(c)\n",
    "a.add_child(l)\n",
    "b.add_child(d)\n",
    "b.add_child(e)\n",
    "b.add_child(f)\n",
    "\n",
    "c.add_child(g)\n",
    "g.add_child(h)\n",
    "g.add_child(k)"
   ]
  },
  {
   "cell_type": "code",
   "execution_count": 3,
   "metadata": {},
   "outputs": [
    {
     "name": "stdout",
     "output_type": "stream",
     "text": [
      "Root: \n",
      "  A: \n",
      "    L: \n",
      "  B: \n",
      "    D: \n",
      "    E: \n",
      "    F: \n",
      "  C: \n",
      "    G: \n",
      "      H: \n",
      "      K: \n",
      "\n"
     ]
    }
   ],
   "source": [
    "print(nn)"
   ]
  },
  {
   "cell_type": "code",
   "execution_count": null,
   "metadata": {},
   "outputs": [],
   "source": []
  }
 ],
 "metadata": {
  "kernelspec": {
   "display_name": "nlp",
   "language": "python",
   "name": "nlp"
  },
  "language_info": {
   "codemirror_mode": {
    "name": "ipython",
    "version": 3
   },
   "file_extension": ".py",
   "mimetype": "text/x-python",
   "name": "python",
   "nbconvert_exporter": "python",
   "pygments_lexer": "ipython3",
   "version": "3.7.13"
  },
  "orig_nbformat": 4
 },
 "nbformat": 4,
 "nbformat_minor": 2
}
