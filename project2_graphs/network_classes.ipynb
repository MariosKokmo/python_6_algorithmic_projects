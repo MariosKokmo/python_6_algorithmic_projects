{
 "cells": [
  {
   "cell_type": "code",
   "execution_count": 1,
   "metadata": {},
   "outputs": [],
   "source": [
    "class Node():\n",
    "    def __init__(self, network,x,y,text):\n",
    "        self.index = -1\n",
    "        self.network = network\n",
    "        self.x = x\n",
    "        self.y = y\n",
    "        self.text = text\n",
    "        self.links = []\n",
    "        network.add_node(self)\n",
    "    \n",
    "    def __str__(self):\n",
    "        return '['+self.text+']'\n",
    "\n",
    "    def add_link(self, link) -> None:\n",
    "        self.links.append(link)"
   ]
  },
  {
   "cell_type": "code",
   "execution_count": 327,
   "metadata": {},
   "outputs": [],
   "source": [
    "class Link():\n",
    "    def __init__(self, network, from_node, to_node, cost):\n",
    "        self.network = network\n",
    "        self.from_node = from_node\n",
    "        self.to_node = to_node\n",
    "        self.cost = cost\n",
    "        network.add_link(self)\n",
    "    \n",
    "    def __str__(self):\n",
    "        return self.from_node.__str__() + ' --> ' \\\n",
    "            + self.to_node.__str__() + ' (' + str(self.cost) + ')'"
   ]
  },
  {
   "cell_type": "code",
   "execution_count": 344,
   "metadata": {},
   "outputs": [],
   "source": [
    "class Network():\n",
    "    def __init__(self):\n",
    "        self.nodes = []\n",
    "        self.links = []\n",
    "        self.clear()\n",
    "        self.nodes_to_index = {}\n",
    "        self.index_to_node = {}\n",
    "        \n",
    "    \n",
    "    def clear(self):\n",
    "        self.node =[]\n",
    "        self.links = []\n",
    "    \n",
    "    def add_node(self, new_node):\n",
    "        new_node.index = len(self.nodes)\n",
    "        self.nodes.append(new_node)\n",
    "        self.nodes_to_index[new_node] = new_node.index\n",
    "        self.index_to_node[new_node.index] = new_node\n",
    "    \n",
    "    def add_link(self, new_link):\n",
    "        self.links.append(new_link)\n",
    "    \n",
    "    def to_string(self):\n",
    "        result = str(len(self.nodes)) + '\\n'\n",
    "        result += str(len(self.links)) +'\\n'\n",
    "        result += '#Nodes.\\n'\n",
    "        for node in self.nodes:\n",
    "            result += f'{node.x},{node.y},{node.text}\\n'\n",
    "        result += '#Links.\\n'\n",
    "        for link in self.links:\n",
    "            result += f'{link.from_node.index},{link.to_node.index},{link.cost}\\n'\n",
    "        return result\n",
    "\n",
    "    def save_into_file(self, filename):\n",
    "        with open(filename+'.net', 'w') as f:\n",
    "            f.write(self.to_string())\n",
    "    \n",
    "    @staticmethod\n",
    "    def read_next_line(file):\n",
    "        for line in file:\n",
    "            if line[0]=='#' or line[0]=='\\n':\n",
    "                continue\n",
    "            line = line.split('#')[0]\n",
    "            if line == '#' or line == None:\n",
    "                continue\n",
    "            else:\n",
    "                # line contains information\n",
    "                line = line.strip()\n",
    "                yield line\n",
    "\n",
    "    \n",
    "    def load_from_file(self, filename):\n",
    "        self.clear()\n",
    "        try:\n",
    "            print(\"Trying to open file...\")\n",
    "            f = open(filename, 'r')\n",
    "            num_nodes = int(next(Network.read_next_line(f)))\n",
    "            num_links = int(next(Network.read_next_line(f)))\n",
    "            for i in range(num_nodes):\n",
    "                line = next(Network.read_next_line(f))\n",
    "                line = line.strip()\n",
    "                [x,y,text] = line.split(',',3)\n",
    "                new_node = Node(self, int(x), int(y), text)\n",
    "\n",
    "            for j in range(num_links):\n",
    "                line = next(Network.read_next_line(f))\n",
    "                line = line.strip()\n",
    "                [from_node,to_node,cost] = line.split(',',3)\n",
    "                # from_node and to_node are integer indices\n",
    "                link = Link(self, self.index_to_node[int(from_node)], self.index_to_node[int(to_node)], int(cost))\n",
    "\n",
    "            print(\"Loading complete!\")\n",
    "        except:\n",
    "            print(\"Unable to open file\")\n",
    "        finally:\n",
    "            print(\"Closing file\")\n",
    "            f.close()\n",
    "        "
   ]
  },
  {
   "cell_type": "code",
   "execution_count": 345,
   "metadata": {},
   "outputs": [],
   "source": [
    "def make_test_network(filename):\n",
    "    # Build a tiny test network.\n",
    "    network = Network()\n",
    "    a = Node(network,  20,  20, 'A')\n",
    "    b = Node(network, 120, 120, 'B')\n",
    "    c = Node(network, 150, 0, 'C')\n",
    "    \n",
    "    link_a_b = Link(network, a, b, 10)\n",
    "    link_a_c = Link(network, a, c, 100)\n",
    "    link_c_b = Link(network, c, b, 50)\n",
    "    print(network.to_string())\n",
    "    # Save into a test file.\n",
    "    network.save_into_file(filename)"
   ]
  },
  {
   "cell_type": "code",
   "execution_count": 349,
   "metadata": {},
   "outputs": [
    {
     "name": "stdout",
     "output_type": "stream",
     "text": [
      "3\n",
      "3\n",
      "#Nodes.\n",
      "20,20,A\n",
      "120,120,B\n",
      "150,0,C\n",
      "#Links.\n",
      "0,1,10\n",
      "0,2,100\n",
      "2,1,50\n",
      "\n"
     ]
    }
   ],
   "source": [
    "make_test_network('3nodes')"
   ]
  },
  {
   "cell_type": "code",
   "execution_count": 350,
   "metadata": {},
   "outputs": [
    {
     "name": "stdout",
     "output_type": "stream",
     "text": [
      "Trying to open file...\n",
      "Loading complete!\n",
      "Closing file\n"
     ]
    }
   ],
   "source": [
    "n = Network()\n",
    "n.load_from_file('3nodes.net')"
   ]
  },
  {
   "cell_type": "code",
   "execution_count": 351,
   "metadata": {},
   "outputs": [
    {
     "name": "stdout",
     "output_type": "stream",
     "text": [
      "3\n",
      "3\n",
      "#Nodes.\n",
      "20,20,A\n",
      "120,120,B\n",
      "150,0,C\n",
      "#Links.\n",
      "0,1,10\n",
      "0,2,100\n",
      "2,1,50\n",
      "\n"
     ]
    }
   ],
   "source": [
    "print(n.to_string())"
   ]
  },
  {
   "cell_type": "code",
   "execution_count": null,
   "metadata": {},
   "outputs": [],
   "source": []
  }
 ],
 "metadata": {
  "kernelspec": {
   "display_name": "base",
   "language": "python",
   "name": "python3"
  },
  "language_info": {
   "codemirror_mode": {
    "name": "ipython",
    "version": 3
   },
   "file_extension": ".py",
   "mimetype": "text/x-python",
   "name": "python",
   "nbconvert_exporter": "python",
   "pygments_lexer": "ipython3",
   "version": "3.7.13"
  },
  "orig_nbformat": 4
 },
 "nbformat": 4,
 "nbformat_minor": 2
}
