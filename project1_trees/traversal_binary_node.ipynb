{
 "cells": [
  {
   "cell_type": "code",
   "execution_count": null,
   "metadata": {},
   "outputs": [],
   "source": [
    "class BinaryNode:\n",
    "    def __init__(self, value, level=0) -> None:\n",
    "        self.value = value\n",
    "        self.left_child = None\n",
    "        self.right_child = None\n",
    "        self.indent = '  '\n",
    "        self.level = level\n",
    "\n",
    "    def add_left(self, left_child):\n",
    "        self.left_child = left_child\n",
    "\n",
    "    def add_right(self, right_child):\n",
    "        self.right_child = right_child\n",
    "    \n",
    "    def find_node(self, target):\n",
    "        if self.value == target:\n",
    "            return self\n",
    "        if self.left_child or self.right_child:\n",
    "            if not self.left_child:\n",
    "                return self.right_child.find_node(target)\n",
    "            if not self.right_child:\n",
    "                return self.left_child.find_node(target)\n",
    "            # here both children exist\n",
    "            return self.left_child.find_node(target) or self.right_child.find_node(target)\n",
    "        else:\n",
    "            # here no child exists\n",
    "            return None\n",
    "\n",
    "\n",
    "    def __str__(self, level=0):\n",
    "        if not self:\n",
    "            return level*self.indent + 'None'\n",
    "        \n",
    "        if (self.left_child != None) or (self.right_child != None):\n",
    "            if self.left_child == None:\n",
    "                return  (level)*self.indent + str(self.value) + ':\\n' + (level+1)*self.indent + 'None\\n' + self.right_child.__str__(level+1)\n",
    "\n",
    "            if self.right_child == None:\n",
    "                return  (level)*self.indent + str(self.value) + ':\\n' + self.left_child.__str__(level+1) + (level+1)*self.indent + 'None\\n' \n",
    "\n",
    "            return (level)*self.indent + str(self.value) + ':\\n' + self.left_child.__str__(level+1)  + self.right_child.__str__(level+1)\n",
    "        \n",
    "        return  (level)*self.indent + str(self.value) +':\\n'"
   ]
  },
  {
   "cell_type": "code",
   "execution_count": null,
   "metadata": {},
   "outputs": [],
   "source": [
    "root = BinaryNode('Root')\n",
    "a = BinaryNode('A')\n",
    "b = BinaryNode('B')\n",
    "c = BinaryNode('C')\n",
    "d = BinaryNode('D')\n",
    "e = BinaryNode('E')\n",
    "f = BinaryNode('F')\n",
    "root.add_left(a)\n",
    "root.add_right(b)\n",
    "a.add_left(c)\n",
    "a.add_right(d)\n",
    "b.add_right(e)\n",
    "e.add_left(f)"
   ]
  }
 ],
 "metadata": {
  "language_info": {
   "name": "python"
  },
  "orig_nbformat": 4
 },
 "nbformat": 4,
 "nbformat_minor": 2
}
