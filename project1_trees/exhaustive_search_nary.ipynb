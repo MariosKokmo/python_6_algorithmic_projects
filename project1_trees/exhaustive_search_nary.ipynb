{
 "cells": [
  {
   "cell_type": "code",
   "execution_count": 72,
   "metadata": {},
   "outputs": [],
   "source": [
    "class NaryNode:\n",
    "    def __init__(self, value, level = 0) -> None:\n",
    "        self.value = value\n",
    "        self.children = []\n",
    "        self.indent = '  '\n",
    "        self.level = level\n",
    "    \n",
    "    def add_child(self, child):\n",
    "        self.children.append(child)\n",
    "        self.children[-1].level = self.level + 1\n",
    "\n",
    "    def find_node(self, target):\n",
    "        if self.value == target:\n",
    "            return self\n",
    "        if self.children:\n",
    "            for child in self.children:\n",
    "                result =  child.find_node(target)\n",
    "                if result:\n",
    "                    return result\n",
    "        else:\n",
    "            return None\n",
    "    \n",
    "    def __str__(self, level = 0) -> str:\n",
    "        return  (level)*self.indent + str(self.value) + ': ' + '\\n' + ''.join([child.__str__(level+1) for child in self.children])"
   ]
  },
  {
   "cell_type": "code",
   "execution_count": 73,
   "metadata": {},
   "outputs": [],
   "source": [
    "def find_value(tree_root, target):\n",
    "    result = tree_root.find_node(target)\n",
    "    if result:\n",
    "        print('Found ',target)\n",
    "    else:\n",
    "        print('Value ',target,' not found')"
   ]
  },
  {
   "cell_type": "code",
   "execution_count": 74,
   "metadata": {},
   "outputs": [],
   "source": [
    "root = NaryNode('Root')\n",
    "a = NaryNode('A')\n",
    "b = NaryNode('B')\n",
    "c = NaryNode('C')\n",
    "d = NaryNode('D')\n",
    "e = NaryNode('E')\n",
    "f = NaryNode('F')\n",
    "g = NaryNode('G')\n",
    "h = NaryNode('H')\n",
    "i = NaryNode('I')\n",
    "\n",
    "root.add_child(a)\n",
    "root.add_child(b)\n",
    "root.add_child(c)\n",
    "a.add_child(d)\n",
    "a.add_child(e)\n",
    "c.add_child(f)\n",
    "d.add_child(g)\n",
    "f.add_child(h)\n",
    "f.add_child(i)\n"
   ]
  },
  {
   "cell_type": "code",
   "execution_count": 78,
   "metadata": {},
   "outputs": [
    {
     "name": "stdout",
     "output_type": "stream",
     "text": [
      "F: \n",
      "  H: \n",
      "  I: \n",
      "\n"
     ]
    }
   ],
   "source": [
    "print(f)"
   ]
  },
  {
   "cell_type": "code",
   "execution_count": 77,
   "metadata": {},
   "outputs": [
    {
     "name": "stdout",
     "output_type": "stream",
     "text": [
      "Found  Root\n",
      "Found  E\n",
      "Found  F\n",
      "Value  Q  not found\n",
      "Found  F\n"
     ]
    }
   ],
   "source": [
    "# Find some values.\n",
    "find_value(root, 'Root')\n",
    "find_value(root, 'E')\n",
    "find_value(root, 'F')\n",
    "find_value(root, 'Q')\n",
    "\n",
    "# Find F in the C subtree.\n",
    "find_value(c, 'F')"
   ]
  },
  {
   "cell_type": "code",
   "execution_count": null,
   "metadata": {},
   "outputs": [],
   "source": []
  }
 ],
 "metadata": {
  "kernelspec": {
   "display_name": "base",
   "language": "python",
   "name": "python3"
  },
  "language_info": {
   "codemirror_mode": {
    "name": "ipython",
    "version": 3
   },
   "file_extension": ".py",
   "mimetype": "text/x-python",
   "name": "python",
   "nbconvert_exporter": "python",
   "pygments_lexer": "ipython3",
   "version": "3.7.13"
  },
  "orig_nbformat": 4
 },
 "nbformat": 4,
 "nbformat_minor": 2
}
