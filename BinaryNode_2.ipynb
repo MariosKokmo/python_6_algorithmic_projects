{
 "cells": [
  {
   "cell_type": "code",
   "execution_count": 1,
   "metadata": {},
   "outputs": [],
   "source": [
    "class BinaryNode:\n",
    "    def __init__(self, value, level=0) -> None:\n",
    "        self.value = value\n",
    "        self.left_child = None\n",
    "        self.right_child = None\n",
    "        self.indent = '  '\n",
    "        self.level = level\n",
    "\n",
    "    def add_left(self, left_child):\n",
    "        self.left_child = left_child\n",
    "        self.left_child.level = self.level+1\n",
    "\n",
    "    def add_right(self, right_child):\n",
    "        self.right_child = right_child\n",
    "        self.right_child.level = self.level+1\n",
    "\n",
    "    def __str__(self):\n",
    "        if not self:\n",
    "            return 'None'\n",
    "        if not self.left_child and not self.right_child:\n",
    "            return (self.level)*self.indent + str(self.value) + ': '\n",
    "        if not self.left_child:\n",
    "            return  (self.level)*self.indent + str(self.value) + ': ' + '\\n' + (self.level+1)*self.indent + self.left_child.__str__() + '\\n' + \\\n",
    "            self.right_child.__str__()\n",
    "        if not self.right_child:\n",
    "            return  (self.level)*self.indent + str(self.value) + ': ' + '\\n' +  self.left_child.__str__() + '\\n' + \\\n",
    "            (self.level+1)*self.indent + self.right_child.__str__()\n",
    "        \n",
    "        return  (self.level)*self.indent + str(self.value) + ': ' + '\\n' + self.left_child.__str__() + '\\n' + \\\n",
    "            self.right_child.__str__()"
   ]
  },
  {
   "cell_type": "code",
   "execution_count": 2,
   "metadata": {},
   "outputs": [],
   "source": [
    "root = BinaryNode('Root')\n",
    "a = BinaryNode('A')\n",
    "b = BinaryNode('B')\n",
    "c = BinaryNode('C')\n",
    "d = BinaryNode('D')\n",
    "e = BinaryNode('E')\n",
    "f = BinaryNode('F')\n",
    "root.add_left(a)\n",
    "root.add_right(b)\n",
    "a.add_left(c)\n",
    "a.add_right(d)\n",
    "b.add_right(e)\n",
    "e.add_left(f)"
   ]
  },
  {
   "cell_type": "code",
   "execution_count": 3,
   "metadata": {},
   "outputs": [
    {
     "name": "stdout",
     "output_type": "stream",
     "text": [
      "Root: \n",
      "  A: \n",
      "    C: \n",
      "    D: \n",
      "  B: \n",
      "    None\n",
      "    E: \n",
      "      F: \n",
      "      None\n"
     ]
    }
   ],
   "source": [
    "print(root)"
   ]
  },
  {
   "cell_type": "code",
   "execution_count": null,
   "metadata": {},
   "outputs": [],
   "source": []
  }
 ],
 "metadata": {
  "kernelspec": {
   "display_name": "nlp",
   "language": "python",
   "name": "nlp"
  },
  "language_info": {
   "codemirror_mode": {
    "name": "ipython",
    "version": 3
   },
   "file_extension": ".py",
   "mimetype": "text/x-python",
   "name": "python",
   "nbconvert_exporter": "python",
   "pygments_lexer": "ipython3",
   "version": "3.7.13"
  },
  "orig_nbformat": 4
 },
 "nbformat": 4,
 "nbformat_minor": 2
}
